{
 "cells": [
  {
   "cell_type": "markdown",
   "metadata": {},
   "source": [
    "# Advanced Querying Mongo"
   ]
  },
  {
   "cell_type": "code",
   "execution_count": 208,
   "metadata": {},
   "outputs": [
    {
     "name": "stdout",
     "output_type": "stream",
     "text": [
      "Requirement already satisfied: pymongo in c:\\users\\cleme\\anaconda3\\lib\\site-packages (4.3.3)\n",
      "Requirement already satisfied: dnspython<3.0.0,>=1.16.0 in c:\\users\\cleme\\anaconda3\\lib\\site-packages (from pymongo) (2.3.0)\n",
      "Note: you may need to restart the kernel to use updated packages.\n"
     ]
    }
   ],
   "source": [
    "%pip install pymongo"
   ]
  },
  {
   "cell_type": "markdown",
   "metadata": {},
   "source": [
    "Importing libraries and setting up connection"
   ]
  },
  {
   "cell_type": "code",
   "execution_count": 209,
   "metadata": {},
   "outputs": [],
   "source": [
    "from pymongo import MongoClient\n",
    "cursor = MongoClient()"
   ]
  },
  {
   "cell_type": "code",
   "execution_count": 210,
   "metadata": {},
   "outputs": [],
   "source": [
    "db = cursor.companies\n",
    "\n",
    "colec = db.companies"
   ]
  },
  {
   "cell_type": "markdown",
   "metadata": {},
   "source": [
    "### 1. All the companies whose name match 'Babelgum'. Retrieve only their `name` field."
   ]
  },
  {
   "cell_type": "code",
   "execution_count": 211,
   "metadata": {},
   "outputs": [
    {
     "data": {
      "text/plain": [
       "[{'_id': ObjectId('52cdef7c4bab8bd675297da0'), 'name': 'Babelgum'}]"
      ]
     },
     "execution_count": 211,
     "metadata": {},
     "output_type": "execute_result"
    }
   ],
   "source": [
    "# Your Code\n",
    "\n",
    "query = {'name': 'Babelgum'}   # where name=Babelgum\n",
    "\n",
    "select = {'name': True}   # select name from colec, dame solo el nombre\n",
    "\n",
    "\n",
    "res = colec.find(query, select).limit(10)\n",
    "\n",
    "\n",
    "list(res)\n"
   ]
  },
  {
   "cell_type": "markdown",
   "metadata": {},
   "source": [
    "### 2. All the companies that have more than 5000 employees. Limit the search to 20 companies and sort them by **number of employees**."
   ]
  },
  {
   "cell_type": "code",
   "execution_count": 212,
   "metadata": {},
   "outputs": [
    {
     "data": {
      "text/plain": [
       "[{'name': 'Siemens', 'number_of_employees': 405000},\n",
       " {'name': 'IBM', 'number_of_employees': 388000},\n",
       " {'name': 'Toyota', 'number_of_employees': 320000},\n",
       " {'name': 'PayPal', 'number_of_employees': 300000},\n",
       " {'name': 'Nippon Telegraph and Telephone Corporation',\n",
       "  'number_of_employees': 227000},\n",
       " {'name': 'Samsung Electronics', 'number_of_employees': 221726},\n",
       " {'name': 'Accenture', 'number_of_employees': 205000},\n",
       " {'name': 'Tata Consultancy Services', 'number_of_employees': 200300},\n",
       " {'name': 'Flextronics International', 'number_of_employees': 200000},\n",
       " {'name': 'Safeway', 'number_of_employees': 186000},\n",
       " {'name': 'Sony', 'number_of_employees': 180500},\n",
       " {'name': 'LG', 'number_of_employees': 177000},\n",
       " {'name': 'Ford', 'number_of_employees': 171000},\n",
       " {'name': 'Boeing', 'number_of_employees': 160000},\n",
       " {'name': 'Digital Equipment Corporation', 'number_of_employees': 140000},\n",
       " {'name': 'Nokia', 'number_of_employees': 125000},\n",
       " {'name': 'MItsubishi Electric', 'number_of_employees': 107000},\n",
       " {'name': 'MItsubishi Electric', 'number_of_employees': 107000},\n",
       " {'name': 'Comcast', 'number_of_employees': 100000},\n",
       " {'name': 'Bertelsmann', 'number_of_employees': 100000}]"
      ]
     },
     "execution_count": 212,
     "metadata": {},
     "output_type": "execute_result"
    }
   ],
   "source": [
    "# Your Code\n",
    "query = {'number_of_employees': {'$gt': 5000}}\n",
    "select = {'_id': 0, 'name': 1, 'number_of_employees': 1}\n",
    "sort = [('number_of_employees', -1)]\n",
    "res = colec.find(query, select).sort(sort).limit(20)\n",
    "\n",
    "list(res)\n",
    "\n"
   ]
  },
  {
   "cell_type": "markdown",
   "metadata": {},
   "source": [
    "### 3. All the companies founded between 2000 and 2005, both years included. Retrieve only the `name` and `founded_year` fields."
   ]
  },
  {
   "cell_type": "code",
   "execution_count": 213,
   "metadata": {},
   "outputs": [
    {
     "data": {
      "text/plain": [
       "[{'name': 'Accenture', 'founded_year': 2001},\n",
       " {'name': 'MetaCarta', 'founded_year': 2001},\n",
       " {'name': 'Avaya', 'founded_year': 2000},\n",
       " {'name': 'Webkinz', 'founded_year': 2005},\n",
       " {'name': 'Liberty League International', 'founded_year': 2001},\n",
       " {'name': 'Facebook', 'founded_year': 2004},\n",
       " {'name': 'Air Astana Airlines', 'founded_year': 2002},\n",
       " {'name': 'LinkedIn', 'founded_year': 2003},\n",
       " {'name': 'Symphony Services', 'founded_year': 2002},\n",
       " {'name': 'Globant', 'founded_year': 2003}]"
      ]
     },
     "execution_count": 213,
     "metadata": {},
     "output_type": "execute_result"
    }
   ],
   "source": [
    "query = {\"founded_year\": {\"$gte\": 2000,\"$lte\": 2005}}\n",
    "select = {\"name\": 1, \"founded_year\": 1, \"_id\" :0}\n",
    "\n",
    "res = colec.find(query, select).limit(10).sort(sort)\n",
    "list(res)\n",
    "\n"
   ]
  },
  {
   "cell_type": "code",
   "execution_count": null,
   "metadata": {},
   "outputs": [],
   "source": []
  },
  {
   "cell_type": "markdown",
   "metadata": {},
   "source": [
    "### 4. All the companies that had a Valuation Amount of more than 100.000.000 and have been founded before 2010. Retrieve only the `name` and `ipo` fields."
   ]
  },
  {
   "cell_type": "code",
   "execution_count": 214,
   "metadata": {},
   "outputs": [],
   "source": [
    "# Your Code\n",
    "\n"
   ]
  },
  {
   "cell_type": "markdown",
   "metadata": {},
   "source": [
    "### 5. All the companies that have less than 1000 employees and have been founded before 2005. Order them by the number of employees and limit the search to 10 companies."
   ]
  },
  {
   "cell_type": "code",
   "execution_count": 215,
   "metadata": {},
   "outputs": [
    {
     "data": {
      "text/plain": [
       "[{'name': 'Skype', 'number_of_employees': 0},\n",
       " {'name': 'Simpy', 'number_of_employees': 0},\n",
       " {'name': 'Eurekster', 'number_of_employees': 0},\n",
       " {'name': 'Ticketmaster', 'number_of_employees': 0},\n",
       " {'name': 'Fox Interactive Media', 'number_of_employees': 0},\n",
       " {'name': 'stylediary', 'number_of_employees': 0},\n",
       " {'name': 'Monster', 'number_of_employees': 0},\n",
       " {'name': 'EditGrid', 'number_of_employees': 0},\n",
       " {'name': 'Compete', 'number_of_employees': 0},\n",
       " {'name': 'MindTouch', 'number_of_employees': 0}]"
      ]
     },
     "execution_count": 215,
     "metadata": {},
     "output_type": "execute_result"
    }
   ],
   "source": [
    "# Your Code\n",
    "\n",
    "query = {'$and': [{\"founded_year\": {\"$lt\": 2005}},{\"number_of_employees\": {\"$lt\": 1000}}]}\n",
    "select = {\"name\": 1, \"number_of_employees\": 1, \"_id\": 0}\n",
    "sort = [(\"number_of_employees\", 1)]\n",
    "\n",
    "\n",
    "res = colec.find(query, select).sort(sort).limit(10)\n",
    "\n",
    "list(res)\n"
   ]
  },
  {
   "cell_type": "markdown",
   "metadata": {},
   "source": [
    "### 6. All the companies that don't include the `partners` field."
   ]
  },
  {
   "cell_type": "code",
   "execution_count": 216,
   "metadata": {},
   "outputs": [
    {
     "data": {
      "text/plain": [
       "[]"
      ]
     },
     "execution_count": 216,
     "metadata": {},
     "output_type": "execute_result"
    }
   ],
   "source": [
    "# Your Code\n",
    "query = {\"partners\": {\"$exist\": False}}\n",
    "select = {\"name\": 1,}\n",
    "\n",
    "results = colec.find(query, select)\n",
    "\n",
    "list(res)"
   ]
  },
  {
   "cell_type": "markdown",
   "metadata": {},
   "source": [
    "### 7. All the companies that have a null type of value on the `category_code` field."
   ]
  },
  {
   "cell_type": "code",
   "execution_count": 217,
   "metadata": {},
   "outputs": [
    {
     "data": {
      "text/plain": [
       "[{'name': 'Collective'},\n",
       " {'name': 'Snimmer'},\n",
       " {'name': 'KoolIM'},\n",
       " {'name': 'Level9 Media'},\n",
       " {'name': 'VidKing'},\n",
       " {'name': 'Drigg'},\n",
       " {'name': 'SpaceTime'},\n",
       " {'name': 'Touch Clarity'},\n",
       " {'name': 'MMDAYS'},\n",
       " {'name': 'Inside Group'}]"
      ]
     },
     "execution_count": 217,
     "metadata": {},
     "output_type": "execute_result"
    }
   ],
   "source": [
    "# Your Code\n",
    "query = {\"category_code\": None}\n",
    "select = {\"name\": 1, \"_id\": 0}\n",
    "\n",
    "\n",
    "res = colec.find(query,select).limit(10)\n",
    "list(res)"
   ]
  },
  {
   "cell_type": "markdown",
   "metadata": {},
   "source": [
    "### 8. All the companies that have at least 100 employees but less than 1000. Retrieve only the `name` and `number of employees` fields."
   ]
  },
  {
   "cell_type": "code",
   "execution_count": 218,
   "metadata": {},
   "outputs": [
    {
     "data": {
      "text/plain": [
       "[{'name': 'AdventNet', 'number_of_employees': 600},\n",
       " {'name': 'AddThis', 'number_of_employees': 120},\n",
       " {'name': 'OpenX', 'number_of_employees': 305},\n",
       " {'name': 'LifeLock', 'number_of_employees': 644},\n",
       " {'name': 'Jajah', 'number_of_employees': 110},\n",
       " {'name': 'Livestream', 'number_of_employees': 120},\n",
       " {'name': 'Ustream', 'number_of_employees': 250},\n",
       " {'name': 'iContact', 'number_of_employees': 300},\n",
       " {'name': 'Yelp', 'number_of_employees': 800},\n",
       " {'name': 'Dailymotion', 'number_of_employees': 120}]"
      ]
     },
     "execution_count": 218,
     "metadata": {},
     "output_type": "execute_result"
    }
   ],
   "source": [
    "# Your Code\n",
    "query = {'number_of_employees': {'$gte': 100, '$lt': 1000}}\n",
    "select = {'name': 1, 'number_of_employees': 1, '_id': 0}\n",
    "res = colec.find(query, select).limit(10)\n",
    "list(res)"
   ]
  },
  {
   "cell_type": "markdown",
   "metadata": {},
   "source": [
    "### 9. Order all the companies by their IPO price in a descending order."
   ]
  },
  {
   "cell_type": "code",
   "execution_count": 219,
   "metadata": {},
   "outputs": [
    {
     "data": {
      "text/plain": [
       "[{'name': 'GREE',\n",
       "  'ipo': {'valuation_amount': 108960000000.0,\n",
       "   'valuation_currency_code': 'JPY',\n",
       "   'pub_year': 2008,\n",
       "   'pub_month': 12,\n",
       "   'pub_day': 17,\n",
       "   'stock_symbol': '3632'}},\n",
       " {'name': 'Facebook',\n",
       "  'ipo': {'valuation_amount': 104000000000.0,\n",
       "   'valuation_currency_code': 'USD',\n",
       "   'pub_year': 2012,\n",
       "   'pub_month': 5,\n",
       "   'pub_day': 18,\n",
       "   'stock_symbol': 'NASDAQ:FB'}},\n",
       " {'name': 'Amazon',\n",
       "  'ipo': {'valuation_amount': 100000000000.0,\n",
       "   'valuation_currency_code': 'USD',\n",
       "   'pub_year': 1997,\n",
       "   'pub_month': 5,\n",
       "   'pub_day': None,\n",
       "   'stock_symbol': 'NASDAQ:AMZN'}},\n",
       " {'name': 'Twitter',\n",
       "  'ipo': {'valuation_amount': 18100000000.0,\n",
       "   'valuation_currency_code': 'USD',\n",
       "   'pub_year': 2013,\n",
       "   'pub_month': 11,\n",
       "   'pub_day': 7,\n",
       "   'stock_symbol': 'NYSE:TWTR'}},\n",
       " {'name': 'Groupon',\n",
       "  'ipo': {'valuation_amount': 12800000000.0,\n",
       "   'valuation_currency_code': 'USD',\n",
       "   'pub_year': 2011,\n",
       "   'pub_month': 11,\n",
       "   'pub_day': 7,\n",
       "   'stock_symbol': 'NASDAQ:GRPN'}},\n",
       " {'name': 'Tencent',\n",
       "  'ipo': {'valuation_amount': 11000000000.0,\n",
       "   'valuation_currency_code': 'USD',\n",
       "   'pub_year': 2004,\n",
       "   'pub_month': 6,\n",
       "   'pub_day': 16,\n",
       "   'stock_symbol': 'HK:0700'}},\n",
       " {'name': 'Western Digital',\n",
       "  'ipo': {'valuation_amount': 9430000000.0,\n",
       "   'valuation_currency_code': 'USD',\n",
       "   'pub_year': None,\n",
       "   'pub_month': None,\n",
       "   'pub_day': None,\n",
       "   'stock_symbol': 'NYSE:WDC'}},\n",
       " {'name': 'LinkedIn',\n",
       "  'ipo': {'valuation_amount': 9310000000.0,\n",
       "   'valuation_currency_code': 'USD',\n",
       "   'pub_year': 2011,\n",
       "   'pub_month': 7,\n",
       "   'pub_day': 20,\n",
       "   'stock_symbol': 'NYSE:LNKD'}},\n",
       " {'name': 'BMC Software',\n",
       "  'ipo': {'valuation_amount': 6000000000.0,\n",
       "   'valuation_currency_code': 'USD',\n",
       "   'pub_year': 1988,\n",
       "   'pub_month': 8,\n",
       "   'pub_day': 12,\n",
       "   'stock_symbol': 'NASDAQ:BMC'}},\n",
       " {'name': 'Rackspace',\n",
       "  'ipo': {'valuation_amount': 5440000000.0,\n",
       "   'valuation_currency_code': 'USD',\n",
       "   'pub_year': 2011,\n",
       "   'pub_month': 11,\n",
       "   'pub_day': 7,\n",
       "   'stock_symbol': 'RAX'}}]"
      ]
     },
     "execution_count": 219,
     "metadata": {},
     "output_type": "execute_result"
    }
   ],
   "source": [
    "# Your Code\n",
    "query = {}\n",
    "select = {'name': 1, 'ipo': 1, '_id': 0}\n",
    "sort = [('ipo.valuation_amount', -1)]\n",
    "res = colec.find(query, select).sort(sort).limit(10)\n",
    "\n",
    "list(res)\n"
   ]
  },
  {
   "cell_type": "markdown",
   "metadata": {},
   "source": [
    "### 10. Retrieve the 10 companies with more employees, order by the `number of employees`"
   ]
  },
  {
   "cell_type": "code",
   "execution_count": 220,
   "metadata": {},
   "outputs": [
    {
     "data": {
      "text/plain": [
       "[{'name': 'Siemens', 'number_of_employees': 405000},\n",
       " {'name': 'IBM', 'number_of_employees': 388000},\n",
       " {'name': 'Toyota', 'number_of_employees': 320000},\n",
       " {'name': 'PayPal', 'number_of_employees': 300000},\n",
       " {'name': 'Nippon Telegraph and Telephone Corporation',\n",
       "  'number_of_employees': 227000},\n",
       " {'name': 'Samsung Electronics', 'number_of_employees': 221726},\n",
       " {'name': 'Accenture', 'number_of_employees': 205000},\n",
       " {'name': 'Tata Consultancy Services', 'number_of_employees': 200300},\n",
       " {'name': 'Flextronics International', 'number_of_employees': 200000},\n",
       " {'name': 'Safeway', 'number_of_employees': 186000}]"
      ]
     },
     "execution_count": 220,
     "metadata": {},
     "output_type": "execute_result"
    }
   ],
   "source": [
    "# Your Code\n",
    "query = {'number_of_employees': {'$exists': True}}\n",
    "select = {'name': 1, 'number_of_employees': 1, '_id': 0}\n",
    "sort = [('number_of_employees', -1)]\n",
    "res = colec.find(query, select).sort(sort).limit(10)\n",
    "\n",
    "list(res)\n"
   ]
  },
  {
   "cell_type": "markdown",
   "metadata": {},
   "source": [
    "### 11. All the companies founded on the second semester of the year. Limit your search to 1000 companies."
   ]
  },
  {
   "cell_type": "code",
   "execution_count": 221,
   "metadata": {},
   "outputs": [
    {
     "data": {
      "text/plain": [
       "[{'name': 'Wetpaint', 'founded_year': 2005, 'founded_month': 10},\n",
       " {'name': 'Zoho', 'founded_year': 2005, 'founded_month': 9},\n",
       " {'name': 'Digg', 'founded_year': 2004, 'founded_month': 10},\n",
       " {'name': 'Omnidrive', 'founded_year': 2005, 'founded_month': 11},\n",
       " {'name': 'eBay', 'founded_year': 1995, 'founded_month': 9},\n",
       " {'name': 'Joost', 'founded_year': 2006, 'founded_month': 10},\n",
       " {'name': 'Plaxo', 'founded_year': 2002, 'founded_month': 11},\n",
       " {'name': 'Powerset', 'founded_year': 2006, 'founded_month': 10},\n",
       " {'name': 'Kyte', 'founded_year': 2006, 'founded_month': 12},\n",
       " {'name': 'Thoof', 'founded_year': 2006, 'founded_month': 12}]"
      ]
     },
     "execution_count": 221,
     "metadata": {},
     "output_type": "execute_result"
    }
   ],
   "source": [
    "# Your Code\n",
    "query = {'founded_month': {'$gte': 7, '$lte': 12}}\n",
    "select = {'name': 1, 'founded_month': 1, 'founded_year': 1, '_id': 0}\n",
    "res = colec.find(query, select).limit(10)\n",
    "\n",
    "list(res)\n"
   ]
  },
  {
   "cell_type": "markdown",
   "metadata": {},
   "source": [
    "### 12. All the companies founded before 2000 that have an acquisition amount of more than 10.000.00"
   ]
  },
  {
   "cell_type": "code",
   "execution_count": 222,
   "metadata": {},
   "outputs": [
    {
     "data": {
      "text/plain": [
       "[{'name': 'Postini',\n",
       "  'founded_year': 1999,\n",
       "  'acquisition': {'price_amount': 625000000}},\n",
       " {'name': 'SideStep',\n",
       "  'founded_year': 1999,\n",
       "  'acquisition': {'price_amount': 180000000}},\n",
       " {'name': 'Recipezaar',\n",
       "  'founded_year': 1999,\n",
       "  'acquisition': {'price_amount': 25000000}},\n",
       " {'name': 'Cyworld',\n",
       "  'founded_year': 1999,\n",
       "  'acquisition': {'price_amount': 7140000}},\n",
       " {'name': 'PayPal',\n",
       "  'founded_year': 1998,\n",
       "  'acquisition': {'price_amount': 1500000000}},\n",
       " {'name': 'Snapfish',\n",
       "  'founded_year': 1999,\n",
       "  'acquisition': {'price_amount': 300000000}},\n",
       " {'name': 'Neopets',\n",
       "  'founded_year': 1999,\n",
       "  'acquisition': {'price_amount': 160000000}},\n",
       " {'name': 'Sun Microsystems',\n",
       "  'founded_year': 1982,\n",
       "  'acquisition': {'price_amount': 7400000000.0}},\n",
       " {'name': 'Zappos',\n",
       "  'founded_year': 1999,\n",
       "  'acquisition': {'price_amount': 1200000000}},\n",
       " {'name': 'Alibaba',\n",
       "  'founded_year': 1999,\n",
       "  'acquisition': {'price_amount': 1000000000}},\n",
       " {'name': 'Sabre',\n",
       "  'founded_year': 1960,\n",
       "  'acquisition': {'price_amount': 4300000000.0}},\n",
       " {'name': 'Lastminute',\n",
       "  'founded_year': 1998,\n",
       "  'acquisition': {'price_amount': 1008000000}},\n",
       " {'name': 'Sportsline',\n",
       "  'founded_year': 1994,\n",
       "  'acquisition': {'price_amount': 64000000}},\n",
       " {'name': 'Digitas',\n",
       "  'founded_year': 1980,\n",
       "  'acquisition': {'price_amount': 1300000000}},\n",
       " {'name': 'Webshots',\n",
       "  'founded_year': 1995,\n",
       "  'acquisition': {'price_amount': 71000000}},\n",
       " {'name': 'MIVA',\n",
       "  'founded_year': 1999,\n",
       "  'acquisition': {'price_amount': 11600000}},\n",
       " {'name': 'iVillage',\n",
       "  'founded_year': 1995,\n",
       "  'acquisition': {'price_amount': 600000000}},\n",
       " {'name': 'PriceGrabber',\n",
       "  'founded_year': 1999,\n",
       "  'acquisition': {'price_amount': 485000000}},\n",
       " {'name': 'LinkShare',\n",
       "  'founded_year': 1996,\n",
       "  'acquisition': {'price_amount': 425000000}},\n",
       " {'name': 'Kaboose',\n",
       "  'founded_year': 1999,\n",
       "  'acquisition': {'price_amount': 18400000}},\n",
       " {'name': 'Fastclick',\n",
       "  'founded_year': 1998,\n",
       "  'acquisition': {'price_amount': 132000000}},\n",
       " {'name': 'Eloqua',\n",
       "  'founded_year': 1999,\n",
       "  'acquisition': {'price_amount': 871000000}},\n",
       " {'name': 'Omniture',\n",
       "  'founded_year': 1996,\n",
       "  'acquisition': {'price_amount': 1800000000}},\n",
       " {'name': 'Interwoven',\n",
       "  'founded_year': 1995,\n",
       "  'acquisition': {'price_amount': 775000000}},\n",
       " {'name': 'HowStuffWorks',\n",
       "  'founded_year': 1999,\n",
       "  'acquisition': {'price_amount': 250000000}},\n",
       " {'name': 'RealAge',\n",
       "  'founded_year': 1994,\n",
       "  'acquisition': {'price_amount': 100000000}},\n",
       " {'name': 'Match',\n",
       "  'founded_year': 1995,\n",
       "  'acquisition': {'price_amount': 50000000}},\n",
       " {'name': 'Xdrive',\n",
       "  'founded_year': 1999,\n",
       "  'acquisition': {'price_amount': 30000000}},\n",
       " {'name': 'Alexa',\n",
       "  'founded_year': 1996,\n",
       "  'acquisition': {'price_amount': 250000000}},\n",
       " {'name': 'Offermatica',\n",
       "  'founded_year': 1996,\n",
       "  'acquisition': {'price_amount': 65000000}},\n",
       " {'name': 'ioko',\n",
       "  'founded_year': 1996,\n",
       "  'acquisition': {'price_amount': 91400000}},\n",
       " {'name': 'MyNewPlace',\n",
       "  'founded_year': 1999,\n",
       "  'acquisition': {'price_amount': 74400000}},\n",
       " {'name': 'DoubleClick',\n",
       "  'founded_year': 1996,\n",
       "  'acquisition': {'price_amount': 1100000000}},\n",
       " {'name': 'Danger',\n",
       "  'founded_year': 1999,\n",
       "  'acquisition': {'price_amount': 500000000}},\n",
       " {'name': 'Direct Hit',\n",
       "  'founded_year': 1998,\n",
       "  'acquisition': {'price_amount': 500000000}},\n",
       " {'name': 'BEA Systems',\n",
       "  'founded_year': 1995,\n",
       "  'acquisition': {'price_amount': 8500000000.0}},\n",
       " {'name': 'Napster',\n",
       "  'founded_year': 1999,\n",
       "  'acquisition': {'price_amount': 121000000}},\n",
       " {'name': 'SafeNet',\n",
       "  'founded_year': 1983,\n",
       "  'acquisition': {'price_amount': 634000000}},\n",
       " {'name': 'LowerMyBills',\n",
       "  'founded_year': 1999,\n",
       "  'acquisition': {'price_amount': 330000000}},\n",
       " {'name': 'The FeedRoom',\n",
       "  'founded_year': 1999,\n",
       "  'acquisition': {'price_amount': 10000000}},\n",
       " {'name': 'Various',\n",
       "  'founded_year': 1996,\n",
       "  'acquisition': {'price_amount': 500000000}},\n",
       " {'name': 'ServerBeach',\n",
       "  'founded_year': 1990,\n",
       "  'acquisition': {'price_amount': 7500000}},\n",
       " {'name': 'aQuantive',\n",
       "  'founded_year': 1997,\n",
       "  'acquisition': {'price_amount': 6400000000.0}},\n",
       " {'name': 'PeopleSupport',\n",
       "  'founded_year': 1998,\n",
       "  'acquisition': {'price_amount': 250000000}},\n",
       " {'name': 'Wedding Channel',\n",
       "  'founded_year': 1997,\n",
       "  'acquisition': {'price_amount': 78000000}},\n",
       " {'name': 'iCrossing',\n",
       "  'founded_year': 1998,\n",
       "  'acquisition': {'price_amount': 325000000}},\n",
       " {'name': 'Responsys',\n",
       "  'founded_year': 1998,\n",
       "  'acquisition': {'price_amount': 1500000000}},\n",
       " {'name': 'Homestead Technologies',\n",
       "  'founded_year': 1996,\n",
       "  'acquisition': {'price_amount': 170000000}},\n",
       " {'name': 'Phoenix Technologies',\n",
       "  'founded_year': 1979,\n",
       "  'acquisition': {'price_amount': 139000000}},\n",
       " {'name': 'Macromedia',\n",
       "  'founded_year': 1992,\n",
       "  'acquisition': {'price_amount': 3400000000.0}},\n",
       " {'name': 'GlobalEnglish',\n",
       "  'founded_year': 1997,\n",
       "  'acquisition': {'price_amount': 90000000}},\n",
       " {'name': 'PGP Corporation',\n",
       "  'founded_year': 1996,\n",
       "  'acquisition': {'price_amount': 300000000}},\n",
       " {'name': 'Iomega',\n",
       "  'founded_year': 1980,\n",
       "  'acquisition': {'price_amount': 213000000}},\n",
       " {'name': 'BizRate',\n",
       "  'founded_year': 1996,\n",
       "  'acquisition': {'price_amount': 525000000}},\n",
       " {'name': 'MessageLabs',\n",
       "  'founded_year': 1999,\n",
       "  'acquisition': {'price_amount': 695000000}},\n",
       " {'name': 'BubbleShare',\n",
       "  'founded_year': 1991,\n",
       "  'acquisition': {'price_amount': 3000000}},\n",
       " {'name': 'Gracenote',\n",
       "  'founded_year': 1998,\n",
       "  'acquisition': {'price_amount': 170000000}},\n",
       " {'name': 'Razorfish',\n",
       "  'founded_year': 1995,\n",
       "  'acquisition': {'price_amount': 160000000}},\n",
       " {'name': 'Sonic Solutions',\n",
       "  'founded_year': 1987,\n",
       "  'acquisition': {'price_amount': 720000000}},\n",
       " {'name': 'Siebel Systems',\n",
       "  'founded_year': 1993,\n",
       "  'acquisition': {'price_amount': 5850000000.0}},\n",
       " {'name': 'Aprimo',\n",
       "  'founded_year': 1998,\n",
       "  'acquisition': {'price_amount': 525000000}},\n",
       " {'name': 'Opsware',\n",
       "  'founded_year': 1999,\n",
       "  'acquisition': {'price_amount': 1600000000}},\n",
       " {'name': 'Netscape',\n",
       "  'founded_year': 1994,\n",
       "  'acquisition': {'price_amount': 4200000000.0}},\n",
       " {'name': 'Vignette',\n",
       "  'founded_year': 1995,\n",
       "  'acquisition': {'price_amount': 310000000}},\n",
       " {'name': 'Blue Coat Systems',\n",
       "  'founded_year': 1996,\n",
       "  'acquisition': {'price_amount': 1300000000}},\n",
       " {'name': 'Ars Technica',\n",
       "  'founded_year': 1998,\n",
       "  'acquisition': {'price_amount': 25000000}},\n",
       " {'name': 'LSI',\n",
       "  'founded_year': 1980,\n",
       "  'acquisition': {'price_amount': 6600000000.0}},\n",
       " {'name': 'VMware',\n",
       "  'founded_year': 1998,\n",
       "  'acquisition': {'price_amount': 635000000}},\n",
       " {'name': 'OpenAir',\n",
       "  'founded_year': 1999,\n",
       "  'acquisition': {'price_amount': 33000000}},\n",
       " {'name': 'mindSHIFT Technologies',\n",
       "  'founded_year': 1999,\n",
       "  'acquisition': {'price_amount': 167000000}},\n",
       " {'name': 'InsureMe',\n",
       "  'founded_year': 1993,\n",
       "  'acquisition': {'price_amount': 85000000}},\n",
       " {'name': 'SwapDrive',\n",
       "  'founded_year': 1998,\n",
       "  'acquisition': {'price_amount': 123000000}},\n",
       " {'name': 'Marvel Entertainment',\n",
       "  'founded_year': 1988,\n",
       "  'acquisition': {'price_amount': 4000000000.0}},\n",
       " {'name': 'CyberCoders',\n",
       "  'founded_year': 1999,\n",
       "  'acquisition': {'price_amount': 105000000}},\n",
       " {'name': 'Channel Intelligence',\n",
       "  'founded_year': 1999,\n",
       "  'acquisition': {'price_amount': 125000000}},\n",
       " {'name': 'Q-go',\n",
       "  'founded_year': 1999,\n",
       "  'acquisition': {'price_amount': 34000000}},\n",
       " {'name': 'Xerox',\n",
       "  'founded_year': 1906,\n",
       "  'acquisition': {'price_amount': 32500000}},\n",
       " {'name': 'Speedera Networks',\n",
       "  'founded_year': 1999,\n",
       "  'acquisition': {'price_amount': 130000000}},\n",
       " {'name': \"eBaum's World\",\n",
       "  'founded_year': 1998,\n",
       "  'acquisition': {'price_amount': 32500000}},\n",
       " {'name': 'Audible',\n",
       "  'founded_year': 1999,\n",
       "  'acquisition': {'price_amount': 300000000}},\n",
       " {'name': 'Extend Media',\n",
       "  'founded_year': 1991,\n",
       "  'acquisition': {'price_amount': 80000000}},\n",
       " {'name': 'The Weather Channel',\n",
       "  'founded_year': 1982,\n",
       "  'acquisition': {'price_amount': 3500000000.0}},\n",
       " {'name': 'Pixar',\n",
       "  'founded_year': 1986,\n",
       "  'acquisition': {'price_amount': 7400000000.0}},\n",
       " {'name': 'Equallogic',\n",
       "  'founded_year': 1984,\n",
       "  'acquisition': {'price_amount': 1400000000}},\n",
       " {'name': 'Foundry Networks',\n",
       "  'founded_year': 1996,\n",
       "  'acquisition': {'price_amount': 3000000000.0}},\n",
       " {'name': 'Zagat',\n",
       "  'founded_year': 1979,\n",
       "  'acquisition': {'price_amount': 151000000}},\n",
       " {'name': 'SPSS',\n",
       "  'founded_year': 1968,\n",
       "  'acquisition': {'price_amount': 1200000000}},\n",
       " {'name': 'NetQoS',\n",
       "  'founded_year': 1999,\n",
       "  'acquisition': {'price_amount': 200000000}},\n",
       " {'name': 'VivaSmart',\n",
       "  'founded_year': 1999,\n",
       "  'acquisition': {'price_amount': 8900000}},\n",
       " {'name': 'MediaVast',\n",
       "  'founded_year': 1999,\n",
       "  'acquisition': {'price_amount': 202000000}},\n",
       " {'name': 'Voxeo',\n",
       "  'founded_year': 1999,\n",
       "  'acquisition': {'price_amount': 150000000}},\n",
       " {'name': 'EyeWonder',\n",
       "  'founded_year': 1999,\n",
       "  'acquisition': {'price_amount': 66000000}},\n",
       " {'name': 'VideoSurf',\n",
       "  'founded_year': 1840,\n",
       "  'acquisition': {'price_amount': 100000000}},\n",
       " {'name': 'Unilever',\n",
       "  'founded_year': 1930,\n",
       "  'acquisition': {'price_amount': 575000000}},\n",
       " {'name': 'Global Crossing',\n",
       "  'founded_year': 1997,\n",
       "  'acquisition': {'price_amount': 3000000000.0}},\n",
       " {'name': 'iWeb Technologies',\n",
       "  'founded_year': 1996,\n",
       "  'acquisition': {'price_amount': 145000000}},\n",
       " {'name': 'Ciao',\n",
       "  'founded_year': 1999,\n",
       "  'acquisition': {'price_amount': 154000000}},\n",
       " {'name': 'AKQA',\n",
       "  'founded_year': 1995,\n",
       "  'acquisition': {'price_amount': 200000000}},\n",
       " {'name': 'Internet Brands',\n",
       "  'founded_year': 1998,\n",
       "  'acquisition': {'price_amount': 640000000}},\n",
       " {'name': 'Litmus Media',\n",
       "  'founded_year': 1999,\n",
       "  'acquisition': {'price_amount': 13000000}},\n",
       " {'name': '3Com',\n",
       "  'founded_year': 1980,\n",
       "  'acquisition': {'price_amount': 2700000000.0}},\n",
       " {'name': 'MediaVast',\n",
       "  'founded_year': 1999,\n",
       "  'acquisition': {'price_amount': 202000000}},\n",
       " {'name': 'Voxeo',\n",
       "  'founded_year': 1999,\n",
       "  'acquisition': {'price_amount': 150000000}},\n",
       " {'name': 'EyeWonder',\n",
       "  'founded_year': 1999,\n",
       "  'acquisition': {'price_amount': 66000000}},\n",
       " {'name': 'VideoSurf',\n",
       "  'founded_year': 1840,\n",
       "  'acquisition': {'price_amount': 100000000}},\n",
       " {'name': 'Unilever',\n",
       "  'founded_year': 1930,\n",
       "  'acquisition': {'price_amount': 575000000}},\n",
       " {'name': 'Global Crossing',\n",
       "  'founded_year': 1997,\n",
       "  'acquisition': {'price_amount': 3000000000.0}},\n",
       " {'name': 'iWeb Technologies',\n",
       "  'founded_year': 1996,\n",
       "  'acquisition': {'price_amount': 145000000}},\n",
       " {'name': 'Ciao',\n",
       "  'founded_year': 1999,\n",
       "  'acquisition': {'price_amount': 154000000}},\n",
       " {'name': 'AKQA',\n",
       "  'founded_year': 1995,\n",
       "  'acquisition': {'price_amount': 200000000}},\n",
       " {'name': 'Internet Brands',\n",
       "  'founded_year': 1998,\n",
       "  'acquisition': {'price_amount': 640000000}},\n",
       " {'name': 'Litmus Media',\n",
       "  'founded_year': 1999,\n",
       "  'acquisition': {'price_amount': 13000000}},\n",
       " {'name': '3Com',\n",
       "  'founded_year': 1980,\n",
       "  'acquisition': {'price_amount': 2700000000.0}},\n",
       " {'name': 'MapQuest',\n",
       "  'founded_year': 1996,\n",
       "  'acquisition': {'price_amount': 1100000000}},\n",
       " {'name': 'GeoCities',\n",
       "  'founded_year': 1996,\n",
       "  'acquisition': {'price_amount': 2870000000.0}},\n",
       " {'name': 'eGroups',\n",
       "  'founded_year': 1998,\n",
       "  'acquisition': {'price_amount': 432000000}},\n",
       " {'name': 'AlltheWeb',\n",
       "  'founded_year': 1999,\n",
       "  'acquisition': {'price_amount': 100000000}},\n",
       " {'name': 'Navteq',\n",
       "  'founded_year': 1985,\n",
       "  'acquisition': {'price_amount': 8100000000.0}},\n",
       " {'name': 'EachNet',\n",
       "  'founded_year': 1999,\n",
       "  'acquisition': {'price_amount': 150000000}},\n",
       " {'name': 'Berkeley Networks',\n",
       "  'founded_year': 1996,\n",
       "  'acquisition': {'price_amount': 2800000000.0}},\n",
       " {'name': 'Kiwibox',\n",
       "  'founded_year': 1999,\n",
       "  'acquisition': {'price_amount': 2700000}},\n",
       " {'name': 'TARGUSinfo',\n",
       "  'founded_year': 1993,\n",
       "  'acquisition': {'price_amount': 650000000}},\n",
       " {'name': 'Whale Communications',\n",
       "  'founded_year': 1998,\n",
       "  'acquisition': {'price_amount': 70000000}},\n",
       " {'name': 'InfoInterActive',\n",
       "  'founded_year': 1997,\n",
       "  'acquisition': {'price_amount': 28200000}},\n",
       " {'name': 'Gateway',\n",
       "  'founded_year': 1985,\n",
       "  'acquisition': {'price_amount': 710000000}},\n",
       " {'name': 'MovieFone',\n",
       "  'founded_year': 1989,\n",
       "  'acquisition': {'price_amount': 525000000}},\n",
       " {'name': 'ICQ',\n",
       "  'founded_year': 1997,\n",
       "  'acquisition': {'price_amount': 187500000}},\n",
       " {'name': 'Auditude',\n",
       "  'founded_year': 1999,\n",
       "  'acquisition': {'price_amount': 120000000}},\n",
       " {'name': 'Centennial Communications Corp',\n",
       "  'founded_year': 1988,\n",
       "  'acquisition': {'price_amount': 944000000}},\n",
       " {'name': 'National Semiconductor',\n",
       "  'founded_year': 1959,\n",
       "  'acquisition': {'price_amount': 6500000000.0}},\n",
       " {'name': 'QuickArrow',\n",
       "  'founded_year': 1998,\n",
       "  'acquisition': {'price_amount': 19400000}},\n",
       " {'name': 'Sendmail',\n",
       "  'founded_year': 1998,\n",
       "  'acquisition': {'price_amount': 23000000}},\n",
       " {'name': 'SoftImage',\n",
       "  'founded_year': 1986,\n",
       "  'acquisition': {'price_amount': 35000000}},\n",
       " {'name': 'DigitalThink',\n",
       "  'founded_year': 1996,\n",
       "  'acquisition': {'price_amount': 120000000}},\n",
       " {'name': 'Novell',\n",
       "  'founded_year': 1979,\n",
       "  'acquisition': {'price_amount': 2200000000.0}},\n",
       " {'name': 'Air2Web',\n",
       "  'founded_year': 1999,\n",
       "  'acquisition': {'price_amount': 19000000}},\n",
       " {'name': 'Vocollect',\n",
       "  'founded_year': 1988,\n",
       "  'acquisition': {'price_amount': 190000000}},\n",
       " {'name': 'Sterling Commerce',\n",
       "  'founded_year': 1975,\n",
       "  'acquisition': {'price_amount': 3900000000.0}},\n",
       " {'name': 'Transmeta',\n",
       "  'founded_year': 1995,\n",
       "  'acquisition': {'price_amount': 255600000}},\n",
       " {'name': 'AllRecipes',\n",
       "  'founded_year': 1997,\n",
       "  'acquisition': {'price_amount': 175000000}},\n",
       " {'name': 'Sybase',\n",
       "  'founded_year': 1984,\n",
       "  'acquisition': {'price_amount': 5800000000.0}},\n",
       " {'name': 'Agile Software',\n",
       "  'founded_year': 1995,\n",
       "  'acquisition': {'price_amount': 495000000}},\n",
       " {'name': 'Orbiscom',\n",
       "  'founded_year': 1999,\n",
       "  'acquisition': {'price_amount': 100000000}},\n",
       " {'name': 'Terawave Communications',\n",
       "  'founded_year': 1998,\n",
       "  'acquisition': {'price_amount': 3200000}},\n",
       " {'name': 'Network Physics',\n",
       "  'founded_year': 1999,\n",
       "  'acquisition': {'price_amount': 10000000}},\n",
       " {'name': 'UGO Entertainment',\n",
       "  'founded_year': 1998,\n",
       "  'acquisition': {'price_amount': 85000000}},\n",
       " {'name': 'Qualcomm Atheros',\n",
       "  'founded_year': 1998,\n",
       "  'acquisition': {'price_amount': 3100000000.0}},\n",
       " {'name': 'RichFX',\n",
       "  'founded_year': 1998,\n",
       "  'acquisition': {'price_amount': 3100000}},\n",
       " {'name': 'DemandTec',\n",
       "  'founded_year': 1999,\n",
       "  'acquisition': {'price_amount': 440000000}},\n",
       " {'name': 'Linux Networx',\n",
       "  'founded_year': 1989,\n",
       "  'acquisition': {'price_amount': 90000000}},\n",
       " {'name': 'NextBus',\n",
       "  'founded_year': 1997,\n",
       "  'acquisition': {'price_amount': 20600000}},\n",
       " {'name': 'Advanced Mobile Solutions',\n",
       "  'founded_year': 1998,\n",
       "  'acquisition': {'price_amount': 2500000}},\n",
       " {'name': 'Applied Systems',\n",
       "  'founded_year': 1980,\n",
       "  'acquisition': {'price_amount': 1800000000}},\n",
       " {'name': 'CellGate',\n",
       "  'founded_year': 1998,\n",
       "  'acquisition': {'price_amount': 2500000}},\n",
       " {'name': 'Secure Computing',\n",
       "  'founded_year': 1984,\n",
       "  'acquisition': {'price_amount': 465000000}},\n",
       " {'name': 'SonicWALL',\n",
       "  'founded_year': 1991,\n",
       "  'acquisition': {'price_amount': 717000000}},\n",
       " {'name': 'Applimation',\n",
       "  'founded_year': 1998,\n",
       "  'acquisition': {'price_amount': 40000000}},\n",
       " {'name': 'Tek-Tools Software',\n",
       "  'founded_year': 1996,\n",
       "  'acquisition': {'price_amount': 42000000}},\n",
       " {'name': 'Kenexa',\n",
       "  'founded_year': 1987,\n",
       "  'acquisition': {'price_amount': 1300000000}},\n",
       " {'name': 'LiveOffice',\n",
       "  'founded_year': 1998,\n",
       "  'acquisition': {'price_amount': 115000000}},\n",
       " {'name': 'Zeus',\n",
       "  'founded_year': 1995,\n",
       "  'acquisition': {'price_amount': 140000000}},\n",
       " {'name': 'RightNow Technologies',\n",
       "  'founded_year': 1997,\n",
       "  'acquisition': {'price_amount': 1500000000}},\n",
       " {'name': 'Intermec',\n",
       "  'founded_year': 1997,\n",
       "  'acquisition': {'price_amount': 600000000}},\n",
       " {'name': 'Lotus Development Corporation',\n",
       "  'founded_year': 1982,\n",
       "  'acquisition': {'price_amount': 3500000000.0}},\n",
       " {'name': 'Tell Me More',\n",
       "  'founded_year': 1987,\n",
       "  'acquisition': {'price_amount': 28000000}},\n",
       " {'name': 'AeroScout',\n",
       "  'founded_year': 1999,\n",
       "  'acquisition': {'price_amount': 238800000}},\n",
       " {'name': 'Omneon',\n",
       "  'founded_year': 1998,\n",
       "  'acquisition': {'price_amount': 274000000}},\n",
       " {'name': 'Wind River',\n",
       "  'founded_year': 1981,\n",
       "  'acquisition': {'price_amount': 884000000}},\n",
       " {'name': 'Voxmobili',\n",
       "  'founded_year': 1999,\n",
       "  'acquisition': {'price_amount': 35120000}},\n",
       " {'name': 'Guava Technologies',\n",
       "  'founded_year': 1998,\n",
       "  'acquisition': {'price_amount': 22600000}},\n",
       " {'name': 'Alpine Biomed',\n",
       "  'founded_year': 1989,\n",
       "  'acquisition': {'price_amount': 46950000}},\n",
       " {'name': 'Estech',\n",
       "  'founded_year': 1996,\n",
       "  'acquisition': {'price_amount': 60000000}},\n",
       " {'name': 'Axsys',\n",
       "  'founded_year': 1997,\n",
       "  'acquisition': {'price_amount': 643000000}},\n",
       " {'name': 'NetLogic Microsystems',\n",
       "  'founded_year': 1995,\n",
       "  'acquisition': {'price_amount': 3700000000.0}},\n",
       " {'name': 'American Land Lease',\n",
       "  'founded_year': 1986,\n",
       "  'acquisition': {'price_amount': 438000000}},\n",
       " {'name': 'LigoCyte Pharmaceuticals',\n",
       "  'founded_year': 1998,\n",
       "  'acquisition': {'price_amount': 60000000}},\n",
       " {'name': 'NetThruPut',\n",
       "  'founded_year': 1999,\n",
       "  'acquisition': {'price_amount': 52200000}},\n",
       " {'name': 'Tundra Semiconductor',\n",
       "  'founded_year': 1995,\n",
       "  'acquisition': {'price_amount': 100830000}},\n",
       " {'name': 'Eveready',\n",
       "  'founded_year': 1971,\n",
       "  'acquisition': {'price_amount': 167000000}},\n",
       " {'name': 'Wavesat',\n",
       "  'founded_year': 1993,\n",
       "  'acquisition': {'price_amount': 10000000}},\n",
       " {'name': 'Affiliated Computer Services',\n",
       "  'founded_year': 1988,\n",
       "  'acquisition': {'price_amount': 5750000000.0}},\n",
       " {'name': 'Phase Forward',\n",
       "  'founded_year': 1997,\n",
       "  'acquisition': {'price_amount': 685000000}},\n",
       " {'name': 'Stiefel',\n",
       "  'founded_year': 1847,\n",
       "  'acquisition': {'price_amount': 3600000000.0}},\n",
       " {'name': 'Amcom Software',\n",
       "  'founded_year': 1984,\n",
       "  'acquisition': {'price_amount': 163300000}},\n",
       " {'name': 'KAZ Group',\n",
       "  'founded_year': 1988,\n",
       "  'acquisition': {'price_amount': 161000000}},\n",
       " {'name': 'Hifn',\n",
       "  'founded_year': 1996,\n",
       "  'acquisition': {'price_amount': 63230000}},\n",
       " {'name': 'Onsite3',\n",
       "  'founded_year': 1992,\n",
       "  'acquisition': {'price_amount': 28000000}},\n",
       " {'name': 'Digital Forest',\n",
       "  'founded_year': 1998,\n",
       "  'acquisition': {'price_amount': 24820000}},\n",
       " {'name': 'Connect3 Systems',\n",
       "  'founded_year': 1993,\n",
       "  'acquisition': {'price_amount': 13450000}},\n",
       " {'name': 'ChoicePay',\n",
       "  'founded_year': 1996,\n",
       "  'acquisition': {'price_amount': 7500000}},\n",
       " {'name': 'Tidal Software',\n",
       "  'founded_year': 1979,\n",
       "  'acquisition': {'price_amount': 105000000}},\n",
       " {'name': 'AppStream',\n",
       "  'founded_year': 1999,\n",
       "  'acquisition': {'price_amount': 53000000}},\n",
       " {'name': 'Enliven Marketing Technologies',\n",
       "  'founded_year': 1987,\n",
       "  'acquisition': {'price_amount': 71000000}},\n",
       " {'name': 'NetManage',\n",
       "  'founded_year': 1990,\n",
       "  'acquisition': {'price_amount': 73300000}},\n",
       " {'name': 'Integration Associates',\n",
       "  'founded_year': 1991,\n",
       "  'acquisition': {'price_amount': 87110000}},\n",
       " {'name': 'Sophos',\n",
       "  'founded_year': 1985,\n",
       "  'acquisition': {'price_amount': 830000000}},\n",
       " {'name': 'HireRight',\n",
       "  'founded_year': 1990,\n",
       "  'acquisition': {'price_amount': 249000000}},\n",
       " {'name': 'Photon Dynamics',\n",
       "  'founded_year': 1986,\n",
       "  'acquisition': {'price_amount': 290000000}},\n",
       " {'name': 'NetCracker Technology',\n",
       "  'founded_year': 1993,\n",
       "  'acquisition': {'price_amount': 300000000}},\n",
       " {'name': 'NuTech Solutions',\n",
       "  'founded_year': 1999,\n",
       "  'acquisition': {'price_amount': 471390000}},\n",
       " {'name': 'Metrologic Instruments',\n",
       "  'founded_year': 1968,\n",
       "  'acquisition': {'price_amount': 720000000}},\n",
       " {'name': 'Sierra Monolithics',\n",
       "  'founded_year': 1986,\n",
       "  'acquisition': {'price_amount': 180000000}},\n",
       " {'name': 'Veeco Instruments',\n",
       "  'founded_year': 1945,\n",
       "  'acquisition': {'price_amount': 30000000}},\n",
       " {'name': 'Lightera',\n",
       "  'founded_year': 1998,\n",
       "  'acquisition': {'price_amount': 552000000}},\n",
       " {'name': 'NetScaler',\n",
       "  'founded_year': 1997,\n",
       "  'acquisition': {'price_amount': 300000000}},\n",
       " {'name': 'Catapult Communications',\n",
       "  'founded_year': 1985,\n",
       "  'acquisition': {'price_amount': 106140000}},\n",
       " {'name': 'Assessment Evaluation Services',\n",
       "  'founded_year': 1994,\n",
       "  'acquisition': {'price_amount': 1600000}},\n",
       " {'name': 'RapidSwitch',\n",
       "  'founded_year': 1999,\n",
       "  'acquisition': {'price_amount': 5250000}},\n",
       " {'name': 'Easyspace',\n",
       "  'founded_year': 1997,\n",
       "  'acquisition': {'price_amount': 10500000}},\n",
       " {'name': 'FullTilt Solutions',\n",
       "  'founded_year': 1987,\n",
       "  'acquisition': {'price_amount': 1200000}},\n",
       " {'name': 'MBH Solutions',\n",
       "  'founded_year': 1992,\n",
       "  'acquisition': {'price_amount': 3510000}},\n",
       " {'name': 'REApplications',\n",
       "  'founded_year': 1999,\n",
       "  'acquisition': {'price_amount': 9400000}},\n",
       " {'name': 'Datum Legal',\n",
       "  'founded_year': 1994,\n",
       "  'acquisition': {'price_amount': 10000000}},\n",
       " {'name': 'Iron Solutions',\n",
       "  'founded_year': 1999,\n",
       "  'acquisition': {'price_amount': 15000000}},\n",
       " {'name': 'Bookrags',\n",
       "  'founded_year': 1999,\n",
       "  'acquisition': {'price_amount': 18000000}},\n",
       " {'name': 'Aleri Global Banking',\n",
       "  'founded_year': 1981,\n",
       "  'acquisition': {'price_amount': 28000000}},\n",
       " {'name': 'Muniservices',\n",
       "  'founded_year': 1989,\n",
       "  'acquisition': {'price_amount': 29350000}},\n",
       " {'name': 'AuthenTec',\n",
       "  'founded_year': 1998,\n",
       "  'acquisition': {'price_amount': 356000000}},\n",
       " {'name': 'Vertafore',\n",
       "  'founded_year': 1969,\n",
       "  'acquisition': {'price_amount': 1400000000}},\n",
       " {'name': 'Savvion',\n",
       "  'founded_year': 1994,\n",
       "  'acquisition': {'price_amount': 49000000}},\n",
       " {'name': 'Inventa Technologies',\n",
       "  'founded_year': 1993,\n",
       "  'acquisition': {'price_amount': 30000000}},\n",
       " {'name': 'Universal Microwave',\n",
       "  'founded_year': 1998,\n",
       "  'acquisition': {'price_amount': 23200000}},\n",
       " {'name': 'Advanced Control Components',\n",
       "  'founded_year': 1982,\n",
       "  'acquisition': {'price_amount': 18780000}},\n",
       " {'name': 'Contemporary Computer Services',\n",
       "  'founded_year': 1974,\n",
       "  'acquisition': {'price_amount': 15040000}}]"
      ]
     },
     "execution_count": 222,
     "metadata": {},
     "output_type": "execute_result"
    }
   ],
   "source": [
    "# Your Code\n",
    "query = {'$and': [{'founded_year': {'$lt': 2000}}, {'acquisition.price_amount': {'$gt': 1000000}}]}\n",
    "select = {'name': 1, 'founded_year': 1, 'acquisition.price_amount': 1, '_id': 0}\n",
    "res = colec.find(query, select)\n",
    "\n",
    "list(res)\n"
   ]
  },
  {
   "cell_type": "markdown",
   "metadata": {},
   "source": [
    "### 13. All the companies that have been acquired after 2010, order by the acquisition amount, and retrieve only their `name` and `acquisition` field."
   ]
  },
  {
   "cell_type": "code",
   "execution_count": 223,
   "metadata": {},
   "outputs": [],
   "source": [
    "# Your Code"
   ]
  },
  {
   "cell_type": "markdown",
   "metadata": {},
   "source": [
    "### 14. Order the companies by their `founded year`, retrieving only their `name` and `founded year`."
   ]
  },
  {
   "cell_type": "code",
   "execution_count": 224,
   "metadata": {},
   "outputs": [
    {
     "data": {
      "text/plain": [
       "[{'name': 'Flektor', 'founded_year': None},\n",
       " {'name': 'SpinVox', 'founded_year': None},\n",
       " {'name': 'Info', 'founded_year': None},\n",
       " {'name': 'Lala', 'founded_year': None},\n",
       " {'name': 'JotSpot', 'founded_year': None},\n",
       " {'name': 'Gannett', 'founded_year': None},\n",
       " {'name': 'Tun3r', 'founded_year': None},\n",
       " {'name': 'There', 'founded_year': None},\n",
       " {'name': 'NetRatings', 'founded_year': None},\n",
       " {'name': 'Mercora', 'founded_year': None}]"
      ]
     },
     "execution_count": 224,
     "metadata": {},
     "output_type": "execute_result"
    }
   ],
   "source": [
    "# Your Code\n",
    "query = {}\n",
    "select = {'name': 1, 'founded_year': 1, '_id': 0}\n",
    "res = colec.find(query, select).sort('founded_year', 1).limit(10)\n",
    "\n",
    "list(res)\n"
   ]
  },
  {
   "cell_type": "markdown",
   "metadata": {},
   "source": [
    "### 15. All the companies that have been founded on the first seven days of the month, including the seventh. Sort them by their `acquisition price` in a descending order. Limit the search to 10 documents."
   ]
  },
  {
   "cell_type": "code",
   "execution_count": 225,
   "metadata": {},
   "outputs": [
    {
     "data": {
      "text/plain": [
       "[{'name': 'Zappos', 'acquisition': {'price_amount': 1200000000}},\n",
       " {'name': 'BlueLithium', 'acquisition': {'price_amount': 300000000}},\n",
       " {'name': 'Jajah', 'acquisition': {'price_amount': 207000000}},\n",
       " {'name': 'Exalead', 'acquisition': {'price_amount': 162000000}},\n",
       " {'name': 'Storwize', 'acquisition': {'price_amount': 140000000}},\n",
       " {'name': 'Farecast', 'acquisition': {'price_amount': 115000000}},\n",
       " {'name': 'CyberCoders', 'acquisition': {'price_amount': 105000000}},\n",
       " {'name': 'ioko', 'acquisition': {'price_amount': 91400000}},\n",
       " {'name': 'ScanScout', 'acquisition': {'price_amount': 86000000}},\n",
       " {'name': 'Ascribe', 'acquisition': {'price_amount': 57500000}}]"
      ]
     },
     "execution_count": 225,
     "metadata": {},
     "output_type": "execute_result"
    }
   ],
   "source": [
    "# Your Code\n",
    "query = {'$and': [{'founded_day': {'$lte': 7}}, {'founded_month': {'$eq': 1}}], '$expr': {'$ne': ['$acquisition.price_amount', None]}}\n",
    "select = {'name': 1, 'acquisition.price_amount': 1, '_id': 0}\n",
    "sort = [('acquisition.price_amount', -1)]\n",
    "\n",
    "res = colec.find(query, select).sort(sort).limit(10)\n",
    "\n",
    "list(res)\n"
   ]
  },
  {
   "cell_type": "markdown",
   "metadata": {},
   "source": [
    "### 16. All the companies on the 'web' `category` that have more than 4000 employees. Sort them by the amount of employees in ascending order."
   ]
  },
  {
   "cell_type": "code",
   "execution_count": 226,
   "metadata": {},
   "outputs": [
    {
     "data": {
      "text/plain": [
       "[{'name': 'Expedia', 'number_of_employees': 4400},\n",
       " {'name': 'AOL', 'number_of_employees': 8000},\n",
       " {'name': 'Webkinz', 'number_of_employees': 8657},\n",
       " {'name': 'Rakuten', 'number_of_employees': 10000},\n",
       " {'name': 'Los Angeles Times Media Group', 'number_of_employees': 10000},\n",
       " {'name': 'Groupon', 'number_of_employees': 10000},\n",
       " {'name': 'Yahoo!', 'number_of_employees': 13600},\n",
       " {'name': 'eBay', 'number_of_employees': 15000},\n",
       " {'name': 'Experian', 'number_of_employees': 15500}]"
      ]
     },
     "execution_count": 226,
     "metadata": {},
     "output_type": "execute_result"
    }
   ],
   "source": [
    "# Your Code\n",
    "query = {'$and': [{'category_code': 'web'}, {'number_of_employees': {'$gt': 4000}}]}\n",
    "select = {'name': 1, 'number_of_employees': 1, '_id': 0}\n",
    "sort = [('number_of_employees', 1)]\n",
    "res = colec.find(query, select).sort(sort).limit(10)\n",
    "\n",
    "list(res)\n"
   ]
  },
  {
   "cell_type": "markdown",
   "metadata": {},
   "source": [
    "### 17. All the companies whose acquisition amount is more than 10.000.000, and currency is 'EUR'."
   ]
  },
  {
   "cell_type": "code",
   "execution_count": 231,
   "metadata": {},
   "outputs": [
    {
     "data": {
      "text/plain": [
       "[{'name': 'ZYB',\n",
       "  'acquisition': {'price_amount': 31500000, 'price_currency_code': 'EUR'}},\n",
       " {'name': 'Apertio',\n",
       "  'acquisition': {'price_amount': 140000000, 'price_currency_code': 'EUR'}},\n",
       " {'name': 'Greenfield Online',\n",
       "  'acquisition': {'price_amount': 40000000, 'price_currency_code': 'EUR'}},\n",
       " {'name': 'Webedia',\n",
       "  'acquisition': {'price_amount': 70000000, 'price_currency_code': 'EUR'}},\n",
       " {'name': 'Wayfinder',\n",
       "  'acquisition': {'price_amount': 24000000, 'price_currency_code': 'EUR'}},\n",
       " {'name': 'Tuenti Technologies',\n",
       "  'acquisition': {'price_amount': 70000000, 'price_currency_code': 'EUR'}},\n",
       " {'name': 'BioMed Central',\n",
       "  'acquisition': {'price_amount': 43400000, 'price_currency_code': 'EUR'}}]"
      ]
     },
     "execution_count": 231,
     "metadata": {},
     "output_type": "execute_result"
    }
   ],
   "source": [
    "# Your Code\n",
    "query = {'$and': [{'acquisition.price_amount': {'$gt': 10000000}}, {'acquisition.price_currency_code': 'EUR'}]}\n",
    "select = {'name': 1, 'acquisition.price_amount': 1, 'acquisition.price_currency_code': 1, '_id': 0}\n",
    "res = colec.find(query, select)\n",
    "\n",
    "list(res)\n"
   ]
  },
  {
   "cell_type": "markdown",
   "metadata": {},
   "source": [
    "### 18. All the companies that have been acquired on the first trimester of the year. Limit the search to 10 companies, and retrieve only their `name` and `acquisition` fields."
   ]
  },
  {
   "cell_type": "code",
   "execution_count": 234,
   "metadata": {},
   "outputs": [
    {
     "data": {
      "text/plain": [
       "[{'name': 'ZYB',\n",
       "  'acquisition': {'price_amount': 31500000,\n",
       "   'price_currency_code': 'EUR',\n",
       "   'term_code': 'cash',\n",
       "   'source_url': 'http://www.techcrunch.com/2008/05/16/danish-mobile-social-network-zyb-acquired-by-vodafone-for-e315-million/',\n",
       "   'source_description': 'Danish Network ZYB Acquired By Vodafone For â‚¬31.5 million',\n",
       "   'acquired_year': 2008,\n",
       "   'acquired_month': 5,\n",
       "   'acquired_day': 16,\n",
       "   'acquiring_company': {'name': 'Vodafone', 'permalink': 'vodafone'}}},\n",
       " {'name': 'Apertio',\n",
       "  'acquisition': {'price_amount': 140000000,\n",
       "   'price_currency_code': 'EUR',\n",
       "   'term_code': None,\n",
       "   'source_url': 'http://www.techcrunch.com/2008/01/03/nokia-siemens-acquires-apertio-for-e140m/',\n",
       "   'source_description': 'Nokia Siemens Acquires Apertio For â‚¬140m',\n",
       "   'acquired_year': 2008,\n",
       "   'acquired_month': 1,\n",
       "   'acquired_day': 3,\n",
       "   'acquiring_company': {'name': 'Nokia Siemens Networks',\n",
       "    'permalink': 'nokia-siemens-networks'}}}]"
      ]
     },
     "execution_count": 234,
     "metadata": {},
     "output_type": "execute_result"
    }
   ],
   "source": [
    "# Youquery = {'acquisition.acquired_month': {'$lte': 3}}\n",
    "select = {'name': 1, 'acquisition': 1, '_id': 0}\n",
    "res = colec.find(query, select).limit(2)\n",
    "\n",
    "list(res)\n",
    "\n"
   ]
  },
  {
   "cell_type": "markdown",
   "metadata": {},
   "source": [
    "# Bonus\n",
    "### 19. All the companies that have been founded between 2000 and 2010, but have not been acquired before 2011."
   ]
  },
  {
   "cell_type": "code",
   "execution_count": 242,
   "metadata": {},
   "outputs": [
    {
     "data": {
      "text/plain": [
       "[{'name': 'Wetpaint',\n",
       "  'founded_year': 2005,\n",
       "  'acquisition': {'price_amount': 30000000,\n",
       "   'price_currency_code': 'USD',\n",
       "   'term_code': 'cash_and_stock',\n",
       "   'source_url': 'http://allthingsd.com/20131216/viggle-tries-to-bulk-up-its-social-tv-business-by-buying-wetpaint/?mod=atdtweet',\n",
       "   'source_description': ' Viggle Tries to Bulk Up Its Social TV Business by Buying Wetpaint',\n",
       "   'acquired_year': 2013,\n",
       "   'acquired_month': 12,\n",
       "   'acquired_day': 16,\n",
       "   'acquiring_company': {'name': 'Viggle', 'permalink': 'viggle'}}},\n",
       " {'name': 'Digg',\n",
       "  'founded_year': 2004,\n",
       "  'acquisition': {'price_amount': 500000,\n",
       "   'price_currency_code': 'USD',\n",
       "   'term_code': None,\n",
       "   'source_url': 'http://techcrunch.com/2012/07/12/betaworks-acquires-digg/',\n",
       "   'source_description': 'Betaworks Acquires Digg (TechCrunch)',\n",
       "   'acquired_year': 2012,\n",
       "   'acquired_month': 7,\n",
       "   'acquired_day': 12,\n",
       "   'acquiring_company': {'name': 'betaworks', 'permalink': 'betaworks'}}}]"
      ]
     },
     "execution_count": 242,
     "metadata": {},
     "output_type": "execute_result"
    }
   ],
   "source": [
    "\n",
    "query = {'$and': [{'founded_year': {'$gte': 2000}}, {'founded_year': {'$lte': 2010}}, {'acquisition.acquired_year': {'$gte': 2011}}, {'acquisition': {'$exists': True}}]}\n",
    "select = {'name': 1, 'founded_year': 1, 'acquisition': 1, '_id': 0}\n",
    "res = colec.find(query, select).limit(2)\n",
    "list(res)\n"
   ]
  },
  {
   "cell_type": "markdown",
   "metadata": {},
   "source": [
    "### 20. All the companies that have been 'deadpooled' after the third year."
   ]
  },
  {
   "cell_type": "code",
   "execution_count": 230,
   "metadata": {},
   "outputs": [],
   "source": [
    "# Your Code"
   ]
  }
 ],
 "metadata": {
  "kernelspec": {
   "display_name": "Python 3",
   "language": "python",
   "name": "python3"
  },
  "language_info": {
   "codemirror_mode": {
    "name": "ipython",
    "version": 3
   },
   "file_extension": ".py",
   "mimetype": "text/x-python",
   "name": "python",
   "nbconvert_exporter": "python",
   "pygments_lexer": "ipython3",
   "version": "3.10.9"
  }
 },
 "nbformat": 4,
 "nbformat_minor": 2
}
